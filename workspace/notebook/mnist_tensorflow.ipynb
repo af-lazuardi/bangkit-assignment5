{
  "nbformat": 4,
  "nbformat_minor": 0,
  "metadata": {
    "colab": {
      "name": "mnist-tensorflow.ipynb",
      "provenance": []
    },
    "kernelspec": {
      "name": "python3",
      "display_name": "Python 3"
    },
    "accelerator": "GPU"
  },
  "cells": [
    {
      "cell_type": "code",
      "metadata": {
        "id": "9l8PmNKohq-8",
        "colab_type": "code",
        "colab": {}
      },
      "source": [
        "import tensorflow as tf"
      ],
      "execution_count": 0,
      "outputs": []
    },
    {
      "cell_type": "code",
      "metadata": {
        "id": "w9LxCyzjiJjo",
        "colab_type": "code",
        "colab": {
          "base_uri": "https://localhost:8080/",
          "height": 51
        },
        "outputId": "4e3e2c86-765c-479a-a9e2-935fca5da871"
      },
      "source": [
        "mnist = tf.keras.datasets.mnist\n",
        "\n",
        "(x_train, y_train), (x_test, y_test) = mnist.load_data()\n",
        "x_train, x_test = x_train / 255.0, x_test / 255.0"
      ],
      "execution_count": 2,
      "outputs": [
        {
          "output_type": "stream",
          "text": [
            "Downloading data from https://storage.googleapis.com/tensorflow/tf-keras-datasets/mnist.npz\n",
            "11493376/11490434 [==============================] - 0s 0us/step\n"
          ],
          "name": "stdout"
        }
      ]
    },
    {
      "cell_type": "code",
      "metadata": {
        "id": "mMC4RzSHiX5e",
        "colab_type": "code",
        "colab": {}
      },
      "source": [
        "model = tf.keras.models.Sequential([\n",
        "  tf.keras.layers.Flatten(input_shape=(28, 28)),\n",
        "  tf.keras.layers.Dense(128, activation='relu'),\n",
        "  tf.keras.layers.Dropout(0.2),\n",
        "  tf.keras.layers.Dense(10)\n",
        "])"
      ],
      "execution_count": 0,
      "outputs": []
    },
    {
      "cell_type": "code",
      "metadata": {
        "id": "eky3aamoibJm",
        "colab_type": "code",
        "colab": {
          "base_uri": "https://localhost:8080/",
          "height": 68
        },
        "outputId": "76afacf7-59e4-4f88-ce78-f5806388cba5"
      },
      "source": [
        "predictions = model(x_train[:1]).numpy()\n",
        "predictions"
      ],
      "execution_count": 4,
      "outputs": [
        {
          "output_type": "execute_result",
          "data": {
            "text/plain": [
              "array([[-0.27718487,  0.41776812, -0.4887505 ,  0.08530855, -0.16388164,\n",
              "         0.36577624,  0.28588027, -0.6051155 , -0.10707832,  0.2086497 ]],\n",
              "      dtype=float32)"
            ]
          },
          "metadata": {
            "tags": []
          },
          "execution_count": 4
        }
      ]
    },
    {
      "cell_type": "code",
      "metadata": {
        "id": "1vaMfT7qio3Y",
        "colab_type": "code",
        "colab": {
          "base_uri": "https://localhost:8080/",
          "height": 68
        },
        "outputId": "cfed9650-5dd0-4b52-d5ce-1d3ef797c9cb"
      },
      "source": [
        "tf.nn.softmax(predictions).numpy()"
      ],
      "execution_count": 5,
      "outputs": [
        {
          "output_type": "execute_result",
          "data": {
            "text/plain": [
              "array([[0.07374992, 0.14776643, 0.059687  , 0.10597183, 0.0825978 ,\n",
              "        0.14028007, 0.1295083 , 0.0531304 , 0.08742545, 0.11988278]],\n",
              "      dtype=float32)"
            ]
          },
          "metadata": {
            "tags": []
          },
          "execution_count": 5
        }
      ]
    },
    {
      "cell_type": "code",
      "metadata": {
        "id": "nVz8DSzqitAb",
        "colab_type": "code",
        "colab": {}
      },
      "source": [
        "loss_fn = tf.keras.losses.SparseCategoricalCrossentropy(from_logits=True)"
      ],
      "execution_count": 0,
      "outputs": []
    },
    {
      "cell_type": "code",
      "metadata": {
        "id": "c9kBf_gqivRL",
        "colab_type": "code",
        "colab": {
          "base_uri": "https://localhost:8080/",
          "height": 34
        },
        "outputId": "fe125d52-0f2c-44ac-82b6-7e4653ce8253"
      },
      "source": [
        "loss_fn(y_train[:1], predictions).numpy()"
      ],
      "execution_count": 7,
      "outputs": [
        {
          "output_type": "execute_result",
          "data": {
            "text/plain": [
              "1.9641144"
            ]
          },
          "metadata": {
            "tags": []
          },
          "execution_count": 7
        }
      ]
    },
    {
      "cell_type": "code",
      "metadata": {
        "id": "M-USS6fLiyBI",
        "colab_type": "code",
        "colab": {}
      },
      "source": [
        "model.compile(optimizer='adam',\n",
        "              loss=loss_fn,\n",
        "              metrics=['accuracy'])"
      ],
      "execution_count": 0,
      "outputs": []
    },
    {
      "cell_type": "code",
      "metadata": {
        "id": "SLBxteUfi1D1",
        "colab_type": "code",
        "colab": {
          "base_uri": "https://localhost:8080/",
          "height": 1000
        },
        "outputId": "19db879b-6a5f-40b4-8061-5ea39d09810f"
      },
      "source": [
        "model.fit(x_train, y_train, epochs=160)"
      ],
      "execution_count": 20,
      "outputs": [
        {
          "output_type": "stream",
          "text": [
            "Epoch 1/160\n",
            "1875/1875 [==============================] - 4s 2ms/step - loss: 0.0102 - accuracy: 0.9968\n",
            "Epoch 2/160\n",
            "1875/1875 [==============================] - 4s 2ms/step - loss: 0.0091 - accuracy: 0.9972\n",
            "Epoch 3/160\n",
            "1875/1875 [==============================] - 4s 2ms/step - loss: 0.0085 - accuracy: 0.9974\n",
            "Epoch 4/160\n",
            "1875/1875 [==============================] - 4s 2ms/step - loss: 0.0115 - accuracy: 0.9969\n",
            "Epoch 5/160\n",
            "1875/1875 [==============================] - 5s 2ms/step - loss: 0.0092 - accuracy: 0.9973\n",
            "Epoch 6/160\n",
            "1875/1875 [==============================] - 4s 2ms/step - loss: 0.0077 - accuracy: 0.9976\n",
            "Epoch 7/160\n",
            "1875/1875 [==============================] - 4s 2ms/step - loss: 0.0097 - accuracy: 0.9971\n",
            "Epoch 8/160\n",
            "1875/1875 [==============================] - 5s 2ms/step - loss: 0.0103 - accuracy: 0.9970\n",
            "Epoch 9/160\n",
            "1875/1875 [==============================] - 4s 2ms/step - loss: 0.0092 - accuracy: 0.9971\n",
            "Epoch 10/160\n",
            "1875/1875 [==============================] - 5s 3ms/step - loss: 0.0097 - accuracy: 0.9968\n",
            "Epoch 11/160\n",
            "1875/1875 [==============================] - 4s 2ms/step - loss: 0.0086 - accuracy: 0.9973\n",
            "Epoch 12/160\n",
            "1875/1875 [==============================] - 4s 2ms/step - loss: 0.0103 - accuracy: 0.9969\n",
            "Epoch 13/160\n",
            "1875/1875 [==============================] - 4s 2ms/step - loss: 0.0107 - accuracy: 0.9967\n",
            "Epoch 14/160\n",
            "1875/1875 [==============================] - 4s 2ms/step - loss: 0.0087 - accuracy: 0.9976\n",
            "Epoch 15/160\n",
            "1875/1875 [==============================] - 4s 2ms/step - loss: 0.0093 - accuracy: 0.9972\n",
            "Epoch 16/160\n",
            "1875/1875 [==============================] - 4s 2ms/step - loss: 0.0094 - accuracy: 0.9973\n",
            "Epoch 17/160\n",
            "1875/1875 [==============================] - 5s 2ms/step - loss: 0.0118 - accuracy: 0.9965\n",
            "Epoch 18/160\n",
            "1875/1875 [==============================] - 5s 2ms/step - loss: 0.0085 - accuracy: 0.9976\n",
            "Epoch 19/160\n",
            "1875/1875 [==============================] - 4s 2ms/step - loss: 0.0093 - accuracy: 0.9974\n",
            "Epoch 20/160\n",
            "1875/1875 [==============================] - 4s 2ms/step - loss: 0.0096 - accuracy: 0.9972\n",
            "Epoch 21/160\n",
            "1875/1875 [==============================] - 4s 2ms/step - loss: 0.0103 - accuracy: 0.9968\n",
            "Epoch 22/160\n",
            "1875/1875 [==============================] - 4s 2ms/step - loss: 0.0095 - accuracy: 0.9972\n",
            "Epoch 23/160\n",
            "1875/1875 [==============================] - 5s 2ms/step - loss: 0.0098 - accuracy: 0.9973\n",
            "Epoch 24/160\n",
            "1875/1875 [==============================] - 5s 2ms/step - loss: 0.0096 - accuracy: 0.9973\n",
            "Epoch 25/160\n",
            "1875/1875 [==============================] - 4s 2ms/step - loss: 0.0077 - accuracy: 0.9975\n",
            "Epoch 26/160\n",
            "1875/1875 [==============================] - 5s 2ms/step - loss: 0.0103 - accuracy: 0.9971\n",
            "Epoch 27/160\n",
            "1875/1875 [==============================] - 5s 2ms/step - loss: 0.0097 - accuracy: 0.9972\n",
            "Epoch 28/160\n",
            "1875/1875 [==============================] - 4s 2ms/step - loss: 0.0104 - accuracy: 0.9969\n",
            "Epoch 29/160\n",
            "1875/1875 [==============================] - 5s 2ms/step - loss: 0.0077 - accuracy: 0.9973\n",
            "Epoch 30/160\n",
            "1875/1875 [==============================] - 5s 2ms/step - loss: 0.0091 - accuracy: 0.9973\n",
            "Epoch 31/160\n",
            "1875/1875 [==============================] - 4s 2ms/step - loss: 0.0093 - accuracy: 0.9973\n",
            "Epoch 32/160\n",
            "1875/1875 [==============================] - 4s 2ms/step - loss: 0.0082 - accuracy: 0.9976\n",
            "Epoch 33/160\n",
            "1875/1875 [==============================] - 4s 2ms/step - loss: 0.0105 - accuracy: 0.9972\n",
            "Epoch 34/160\n",
            "1875/1875 [==============================] - 5s 2ms/step - loss: 0.0087 - accuracy: 0.9975\n",
            "Epoch 35/160\n",
            "1875/1875 [==============================] - 5s 2ms/step - loss: 0.0120 - accuracy: 0.9969\n",
            "Epoch 36/160\n",
            "1875/1875 [==============================] - 4s 2ms/step - loss: 0.0090 - accuracy: 0.9975\n",
            "Epoch 37/160\n",
            "1875/1875 [==============================] - 4s 2ms/step - loss: 0.0093 - accuracy: 0.9972\n",
            "Epoch 38/160\n",
            "1875/1875 [==============================] - 5s 2ms/step - loss: 0.0097 - accuracy: 0.9972\n",
            "Epoch 39/160\n",
            "1875/1875 [==============================] - 5s 2ms/step - loss: 0.0101 - accuracy: 0.9973\n",
            "Epoch 40/160\n",
            "1875/1875 [==============================] - 4s 2ms/step - loss: 0.0082 - accuracy: 0.9977\n",
            "Epoch 41/160\n",
            "1875/1875 [==============================] - 4s 2ms/step - loss: 0.0098 - accuracy: 0.9970\n",
            "Epoch 42/160\n",
            "1875/1875 [==============================] - 5s 2ms/step - loss: 0.0104 - accuracy: 0.9974\n",
            "Epoch 43/160\n",
            "1875/1875 [==============================] - 4s 2ms/step - loss: 0.0077 - accuracy: 0.9977\n",
            "Epoch 44/160\n",
            "1875/1875 [==============================] - 5s 2ms/step - loss: 0.0085 - accuracy: 0.9975\n",
            "Epoch 45/160\n",
            "1875/1875 [==============================] - 5s 2ms/step - loss: 0.0066 - accuracy: 0.9981\n",
            "Epoch 46/160\n",
            "1875/1875 [==============================] - 5s 2ms/step - loss: 0.0103 - accuracy: 0.9971\n",
            "Epoch 47/160\n",
            "1875/1875 [==============================] - 4s 2ms/step - loss: 0.0082 - accuracy: 0.9976\n",
            "Epoch 48/160\n",
            "1875/1875 [==============================] - 5s 2ms/step - loss: 0.0101 - accuracy: 0.9971\n",
            "Epoch 49/160\n",
            "1875/1875 [==============================] - 5s 3ms/step - loss: 0.0094 - accuracy: 0.9973\n",
            "Epoch 50/160\n",
            "1875/1875 [==============================] - 5s 2ms/step - loss: 0.0093 - accuracy: 0.9973\n",
            "Epoch 51/160\n",
            "1875/1875 [==============================] - 4s 2ms/step - loss: 0.0092 - accuracy: 0.9976\n",
            "Epoch 52/160\n",
            "1875/1875 [==============================] - 4s 2ms/step - loss: 0.0077 - accuracy: 0.9978\n",
            "Epoch 53/160\n",
            "1875/1875 [==============================] - 4s 2ms/step - loss: 0.0085 - accuracy: 0.9976\n",
            "Epoch 54/160\n",
            "1875/1875 [==============================] - 5s 2ms/step - loss: 0.0107 - accuracy: 0.9969\n",
            "Epoch 55/160\n",
            "1875/1875 [==============================] - 5s 2ms/step - loss: 0.0108 - accuracy: 0.9969\n",
            "Epoch 56/160\n",
            "1875/1875 [==============================] - 4s 2ms/step - loss: 0.0098 - accuracy: 0.9973\n",
            "Epoch 57/160\n",
            "1875/1875 [==============================] - 4s 2ms/step - loss: 0.0070 - accuracy: 0.9977\n",
            "Epoch 58/160\n",
            "1875/1875 [==============================] - 4s 2ms/step - loss: 0.0089 - accuracy: 0.9975\n",
            "Epoch 59/160\n",
            "1875/1875 [==============================] - 5s 2ms/step - loss: 0.0093 - accuracy: 0.9972\n",
            "Epoch 60/160\n",
            "1875/1875 [==============================] - 4s 2ms/step - loss: 0.0090 - accuracy: 0.9974\n",
            "Epoch 61/160\n",
            "1875/1875 [==============================] - 4s 2ms/step - loss: 0.0100 - accuracy: 0.9973\n",
            "Epoch 62/160\n",
            "1875/1875 [==============================] - 5s 2ms/step - loss: 0.0103 - accuracy: 0.9972\n",
            "Epoch 63/160\n",
            "1875/1875 [==============================] - 5s 3ms/step - loss: 0.0088 - accuracy: 0.9975\n",
            "Epoch 64/160\n",
            "1875/1875 [==============================] - 5s 3ms/step - loss: 0.0084 - accuracy: 0.9977\n",
            "Epoch 65/160\n",
            "1875/1875 [==============================] - 4s 2ms/step - loss: 0.0080 - accuracy: 0.9975\n",
            "Epoch 66/160\n",
            "1875/1875 [==============================] - 5s 2ms/step - loss: 0.0088 - accuracy: 0.9976\n",
            "Epoch 67/160\n",
            "1875/1875 [==============================] - 4s 2ms/step - loss: 0.0082 - accuracy: 0.9976\n",
            "Epoch 68/160\n",
            "1875/1875 [==============================] - 4s 2ms/step - loss: 0.0074 - accuracy: 0.9979\n",
            "Epoch 69/160\n",
            "1875/1875 [==============================] - 4s 2ms/step - loss: 0.0085 - accuracy: 0.9974\n",
            "Epoch 70/160\n",
            "1875/1875 [==============================] - 5s 2ms/step - loss: 0.0096 - accuracy: 0.9973\n",
            "Epoch 71/160\n",
            "1875/1875 [==============================] - 4s 2ms/step - loss: 0.0070 - accuracy: 0.9979\n",
            "Epoch 72/160\n",
            "1875/1875 [==============================] - 4s 2ms/step - loss: 0.0086 - accuracy: 0.9976\n",
            "Epoch 73/160\n",
            "1875/1875 [==============================] - 5s 2ms/step - loss: 0.0100 - accuracy: 0.9973\n",
            "Epoch 74/160\n",
            "1875/1875 [==============================] - 4s 2ms/step - loss: 0.0097 - accuracy: 0.9976\n",
            "Epoch 75/160\n",
            "1875/1875 [==============================] - 5s 2ms/step - loss: 0.0090 - accuracy: 0.9975\n",
            "Epoch 76/160\n",
            "1875/1875 [==============================] - 5s 2ms/step - loss: 0.0088 - accuracy: 0.9974\n",
            "Epoch 77/160\n",
            "1875/1875 [==============================] - 5s 2ms/step - loss: 0.0091 - accuracy: 0.9976\n",
            "Epoch 78/160\n",
            "1875/1875 [==============================] - 5s 3ms/step - loss: 0.0095 - accuracy: 0.9973\n",
            "Epoch 79/160\n",
            "1875/1875 [==============================] - 5s 2ms/step - loss: 0.0079 - accuracy: 0.9977\n",
            "Epoch 80/160\n",
            "1875/1875 [==============================] - 4s 2ms/step - loss: 0.0072 - accuracy: 0.9979\n",
            "Epoch 81/160\n",
            "1875/1875 [==============================] - 4s 2ms/step - loss: 0.0094 - accuracy: 0.9973\n",
            "Epoch 82/160\n",
            "1875/1875 [==============================] - 4s 2ms/step - loss: 0.0094 - accuracy: 0.9977\n",
            "Epoch 83/160\n",
            "1875/1875 [==============================] - 5s 2ms/step - loss: 0.0085 - accuracy: 0.9978\n",
            "Epoch 84/160\n",
            "1875/1875 [==============================] - 4s 2ms/step - loss: 0.0077 - accuracy: 0.9976\n",
            "Epoch 85/160\n",
            "1875/1875 [==============================] - 4s 2ms/step - loss: 0.0067 - accuracy: 0.9980\n",
            "Epoch 86/160\n",
            "1875/1875 [==============================] - 4s 2ms/step - loss: 0.0096 - accuracy: 0.9976\n",
            "Epoch 87/160\n",
            "1875/1875 [==============================] - 4s 2ms/step - loss: 0.0073 - accuracy: 0.9980\n",
            "Epoch 88/160\n",
            "1875/1875 [==============================] - 4s 2ms/step - loss: 0.0088 - accuracy: 0.9976\n",
            "Epoch 89/160\n",
            "1875/1875 [==============================] - 4s 2ms/step - loss: 0.0096 - accuracy: 0.9975\n",
            "Epoch 90/160\n",
            "1875/1875 [==============================] - 4s 2ms/step - loss: 0.0080 - accuracy: 0.9977\n",
            "Epoch 91/160\n",
            "1875/1875 [==============================] - 4s 2ms/step - loss: 0.0080 - accuracy: 0.9977\n",
            "Epoch 92/160\n",
            "1875/1875 [==============================] - 5s 2ms/step - loss: 0.0073 - accuracy: 0.9980\n",
            "Epoch 93/160\n",
            "1875/1875 [==============================] - 4s 2ms/step - loss: 0.0082 - accuracy: 0.9977\n",
            "Epoch 94/160\n",
            "1875/1875 [==============================] - 4s 2ms/step - loss: 0.0090 - accuracy: 0.9976\n",
            "Epoch 95/160\n",
            "1875/1875 [==============================] - 4s 2ms/step - loss: 0.0081 - accuracy: 0.9977\n",
            "Epoch 96/160\n",
            "1875/1875 [==============================] - 5s 2ms/step - loss: 0.0097 - accuracy: 0.9973\n",
            "Epoch 97/160\n",
            "1875/1875 [==============================] - 4s 2ms/step - loss: 0.0103 - accuracy: 0.9972\n",
            "Epoch 98/160\n",
            "1875/1875 [==============================] - 4s 2ms/step - loss: 0.0062 - accuracy: 0.9980\n",
            "Epoch 99/160\n",
            "1875/1875 [==============================] - 4s 2ms/step - loss: 0.0088 - accuracy: 0.9973\n",
            "Epoch 100/160\n",
            "1875/1875 [==============================] - 4s 2ms/step - loss: 0.0066 - accuracy: 0.9979\n",
            "Epoch 101/160\n",
            "1875/1875 [==============================] - 4s 2ms/step - loss: 0.0078 - accuracy: 0.9977\n",
            "Epoch 102/160\n",
            "1875/1875 [==============================] - 4s 2ms/step - loss: 0.0084 - accuracy: 0.9977\n",
            "Epoch 103/160\n",
            "1875/1875 [==============================] - 5s 2ms/step - loss: 0.0087 - accuracy: 0.9978\n",
            "Epoch 104/160\n",
            "1875/1875 [==============================] - 5s 2ms/step - loss: 0.0084 - accuracy: 0.9974\n",
            "Epoch 105/160\n",
            "1875/1875 [==============================] - 4s 2ms/step - loss: 0.0075 - accuracy: 0.9978\n",
            "Epoch 106/160\n",
            "1875/1875 [==============================] - 4s 2ms/step - loss: 0.0107 - accuracy: 0.9976\n",
            "Epoch 107/160\n",
            "1875/1875 [==============================] - 4s 2ms/step - loss: 0.0073 - accuracy: 0.9977\n",
            "Epoch 108/160\n",
            "1875/1875 [==============================] - 4s 2ms/step - loss: 0.0079 - accuracy: 0.9978\n",
            "Epoch 109/160\n",
            "1875/1875 [==============================] - 4s 2ms/step - loss: 0.0097 - accuracy: 0.9974\n",
            "Epoch 110/160\n",
            "1875/1875 [==============================] - 4s 2ms/step - loss: 0.0091 - accuracy: 0.9975\n",
            "Epoch 111/160\n",
            "1875/1875 [==============================] - 4s 2ms/step - loss: 0.0083 - accuracy: 0.9976\n",
            "Epoch 112/160\n",
            "1875/1875 [==============================] - 5s 2ms/step - loss: 0.0078 - accuracy: 0.9977\n",
            "Epoch 113/160\n",
            "1875/1875 [==============================] - 4s 2ms/step - loss: 0.0076 - accuracy: 0.9979\n",
            "Epoch 114/160\n",
            "1875/1875 [==============================] - 4s 2ms/step - loss: 0.0076 - accuracy: 0.9979\n",
            "Epoch 115/160\n",
            "1875/1875 [==============================] - 4s 2ms/step - loss: 0.0077 - accuracy: 0.9978\n",
            "Epoch 116/160\n",
            "1875/1875 [==============================] - 4s 2ms/step - loss: 0.0086 - accuracy: 0.9978\n",
            "Epoch 117/160\n",
            "1875/1875 [==============================] - 4s 2ms/step - loss: 0.0096 - accuracy: 0.9974\n",
            "Epoch 118/160\n",
            "1875/1875 [==============================] - 5s 2ms/step - loss: 0.0079 - accuracy: 0.9980\n",
            "Epoch 119/160\n",
            "1875/1875 [==============================] - 4s 2ms/step - loss: 0.0084 - accuracy: 0.9978\n",
            "Epoch 120/160\n",
            "1875/1875 [==============================] - 4s 2ms/step - loss: 0.0098 - accuracy: 0.9975\n",
            "Epoch 121/160\n",
            "1875/1875 [==============================] - 4s 2ms/step - loss: 0.0082 - accuracy: 0.9977\n",
            "Epoch 122/160\n",
            "1875/1875 [==============================] - 4s 2ms/step - loss: 0.0069 - accuracy: 0.9981\n",
            "Epoch 123/160\n",
            "1875/1875 [==============================] - 4s 2ms/step - loss: 0.0089 - accuracy: 0.9975\n",
            "Epoch 124/160\n",
            "1875/1875 [==============================] - 4s 2ms/step - loss: 0.0088 - accuracy: 0.9976\n",
            "Epoch 125/160\n",
            "1875/1875 [==============================] - 4s 2ms/step - loss: 0.0064 - accuracy: 0.9981\n",
            "Epoch 126/160\n",
            "1875/1875 [==============================] - 5s 2ms/step - loss: 0.0091 - accuracy: 0.9977\n",
            "Epoch 127/160\n",
            "1875/1875 [==============================] - 4s 2ms/step - loss: 0.0100 - accuracy: 0.9973\n",
            "Epoch 128/160\n",
            "1875/1875 [==============================] - 4s 2ms/step - loss: 0.0095 - accuracy: 0.9975\n",
            "Epoch 129/160\n",
            "1875/1875 [==============================] - 5s 2ms/step - loss: 0.0078 - accuracy: 0.9978\n",
            "Epoch 130/160\n",
            "1875/1875 [==============================] - 5s 2ms/step - loss: 0.0079 - accuracy: 0.9978\n",
            "Epoch 131/160\n",
            "1875/1875 [==============================] - 4s 2ms/step - loss: 0.0070 - accuracy: 0.9979\n",
            "Epoch 132/160\n",
            "1875/1875 [==============================] - 4s 2ms/step - loss: 0.0067 - accuracy: 0.9982\n",
            "Epoch 133/160\n",
            "1875/1875 [==============================] - 5s 3ms/step - loss: 0.0090 - accuracy: 0.9977\n",
            "Epoch 134/160\n",
            "1875/1875 [==============================] - 5s 3ms/step - loss: 0.0101 - accuracy: 0.9974\n",
            "Epoch 135/160\n",
            "1875/1875 [==============================] - 4s 2ms/step - loss: 0.0090 - accuracy: 0.9978\n",
            "Epoch 136/160\n",
            "1875/1875 [==============================] - 4s 2ms/step - loss: 0.0083 - accuracy: 0.9977\n",
            "Epoch 137/160\n",
            "1875/1875 [==============================] - 4s 2ms/step - loss: 0.0089 - accuracy: 0.9977\n",
            "Epoch 138/160\n",
            "1875/1875 [==============================] - 5s 2ms/step - loss: 0.0096 - accuracy: 0.9975\n",
            "Epoch 139/160\n",
            "1875/1875 [==============================] - 4s 2ms/step - loss: 0.0099 - accuracy: 0.9974\n",
            "Epoch 140/160\n",
            "1875/1875 [==============================] - 4s 2ms/step - loss: 0.0070 - accuracy: 0.9979\n",
            "Epoch 141/160\n",
            "1875/1875 [==============================] - 4s 2ms/step - loss: 0.0083 - accuracy: 0.9976\n",
            "Epoch 142/160\n",
            "1875/1875 [==============================] - 5s 2ms/step - loss: 0.0099 - accuracy: 0.9976\n",
            "Epoch 143/160\n",
            "1875/1875 [==============================] - 4s 2ms/step - loss: 0.0068 - accuracy: 0.9983\n",
            "Epoch 144/160\n",
            "1875/1875 [==============================] - 4s 2ms/step - loss: 0.0088 - accuracy: 0.9976\n",
            "Epoch 145/160\n",
            "1875/1875 [==============================] - 4s 2ms/step - loss: 0.0100 - accuracy: 0.9972\n",
            "Epoch 146/160\n",
            "1875/1875 [==============================] - 4s 2ms/step - loss: 0.0076 - accuracy: 0.9978\n",
            "Epoch 147/160\n",
            "1875/1875 [==============================] - 5s 3ms/step - loss: 0.0088 - accuracy: 0.9979\n",
            "Epoch 148/160\n",
            "1875/1875 [==============================] - 4s 2ms/step - loss: 0.0077 - accuracy: 0.9977\n",
            "Epoch 149/160\n",
            "1875/1875 [==============================] - 4s 2ms/step - loss: 0.0060 - accuracy: 0.9983\n",
            "Epoch 150/160\n",
            "1875/1875 [==============================] - 5s 2ms/step - loss: 0.0085 - accuracy: 0.9978\n",
            "Epoch 151/160\n",
            "1875/1875 [==============================] - 5s 2ms/step - loss: 0.0067 - accuracy: 0.9979\n",
            "Epoch 152/160\n",
            "1875/1875 [==============================] - 4s 2ms/step - loss: 0.0066 - accuracy: 0.9980\n",
            "Epoch 153/160\n",
            "1875/1875 [==============================] - 4s 2ms/step - loss: 0.0077 - accuracy: 0.9978\n",
            "Epoch 154/160\n",
            "1875/1875 [==============================] - 4s 2ms/step - loss: 0.0083 - accuracy: 0.9976\n",
            "Epoch 155/160\n",
            "1875/1875 [==============================] - 5s 2ms/step - loss: 0.0065 - accuracy: 0.9979\n",
            "Epoch 156/160\n",
            "1875/1875 [==============================] - 4s 2ms/step - loss: 0.0093 - accuracy: 0.9978\n",
            "Epoch 157/160\n",
            "1875/1875 [==============================] - 5s 2ms/step - loss: 0.0074 - accuracy: 0.9978\n",
            "Epoch 158/160\n",
            "1875/1875 [==============================] - 4s 2ms/step - loss: 0.0073 - accuracy: 0.9981\n",
            "Epoch 159/160\n",
            "1875/1875 [==============================] - 4s 2ms/step - loss: 0.0101 - accuracy: 0.9977\n",
            "Epoch 160/160\n",
            "1875/1875 [==============================] - 4s 2ms/step - loss: 0.0068 - accuracy: 0.9981\n"
          ],
          "name": "stdout"
        },
        {
          "output_type": "execute_result",
          "data": {
            "text/plain": [
              "<tensorflow.python.keras.callbacks.History at 0x7fd7c02735f8>"
            ]
          },
          "metadata": {
            "tags": []
          },
          "execution_count": 20
        }
      ]
    },
    {
      "cell_type": "code",
      "metadata": {
        "id": "i41rcwJri9F3",
        "colab_type": "code",
        "colab": {
          "base_uri": "https://localhost:8080/",
          "height": 51
        },
        "outputId": "37a43f01-3547-43f0-d21f-506f29f9985e"
      },
      "source": [
        "model.evaluate(x_test,  y_test, verbose=2)"
      ],
      "execution_count": 19,
      "outputs": [
        {
          "output_type": "stream",
          "text": [
            "313/313 - 1s - loss: 0.1814 - accuracy: 0.9806\n"
          ],
          "name": "stdout"
        },
        {
          "output_type": "execute_result",
          "data": {
            "text/plain": [
              "[0.18137258291244507, 0.9805999994277954]"
            ]
          },
          "metadata": {
            "tags": []
          },
          "execution_count": 19
        }
      ]
    }
  ]
}